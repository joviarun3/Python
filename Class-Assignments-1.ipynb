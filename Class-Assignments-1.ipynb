{
 "cells": [
  {
   "cell_type": "code",
   "execution_count": 4,
   "id": "59f9fcea-41c3-42c3-b634-7e579e219801",
   "metadata": {},
   "outputs": [
    {
     "name": "stdout",
     "output_type": "stream",
     "text": [
      "Sub-fields in AI are:\n",
      "Machine Learning\n",
      "Neural Networks\n",
      "Vision\n",
      "Robotics\n",
      "Speech Processing\n",
      "Natural Language Processing\n"
     ]
    }
   ],
   "source": [
    "class SubfieldsInAI(): \n",
    "    def Subfields():\n",
    "        list=['Machine Learning', 'Neural Networks', 'Vision', 'Robotics',  'Speech Processing', 'Natural Language Processing']\n",
    "        print(\"Sub-fields in AI are:\") \n",
    "        for i in list:\n",
    "            print (i)\n",
    "SubfieldsInAI.Subfields()"
   ]
  },
  {
   "cell_type": "code",
   "execution_count": 5,
   "id": "938880c6-5e3f-4d47-a214-0fe52a153e68",
   "metadata": {},
   "outputs": [
    {
     "name": "stdin",
     "output_type": "stream",
     "text": [
      "Enter a number: 52452\n"
     ]
    },
    {
     "name": "stdout",
     "output_type": "stream",
     "text": [
      "52452 is Even number\n"
     ]
    }
   ],
   "source": [
    "class OddEven():\n",
    "    def OddEven():\n",
    "        num1=int(input(\"Enter a number:\"))\n",
    "        if num1%2==0:\n",
    "            print(num1,\"is Even number\")\n",
    "        else:\n",
    "            print(num1,\"is Odd number\")\n",
    "OddEven.OddEven()"
   ]
  },
  {
   "cell_type": "code",
   "execution_count": 8,
   "id": "92307897-fca6-4b97-ac21-f76fbccea524",
   "metadata": {},
   "outputs": [
    {
     "name": "stdin",
     "output_type": "stream",
     "text": [
      "Your Gender: Male\n",
      "Your Age: 20\n"
     ]
    },
    {
     "name": "stdout",
     "output_type": "stream",
     "text": [
      "NOT ELIGIBLE\n"
     ]
    }
   ],
   "source": [
    "#**Just tried with user input and then called the class\n",
    "class EligiblityForMarriage():\n",
    "    def Eligible(Gen, age):\n",
    "        if Gen == \"Male\" and age>=21:\n",
    "            print(\"ELIGIBLE\")\n",
    "        elif Gen == \"Female\" and age>=18:\n",
    "            print(\"ELIGIBLE\")\n",
    "        else:\n",
    "            print(\"NOT ELIGIBLE\")\n",
    "Gender=input(\"Your Gender:\")\n",
    "Age=int(input(\"Your Age:\"))\n",
    "ElegiblityForMarriage.Eligible(Gender, Age)"
   ]
  },
  {
   "cell_type": "code",
   "execution_count": 9,
   "id": "e77e4ce6-e298-468d-854e-538fd3d830f7",
   "metadata": {},
   "outputs": [
    {
     "name": "stdin",
     "output_type": "stream",
     "text": [
      "Subject1=  98\n",
      "Subject2=  87\n",
      "Subject3=  95\n",
      "Subject4=  95\n",
      "Subject5=  93\n"
     ]
    },
    {
     "name": "stdout",
     "output_type": "stream",
     "text": [
      "Total :  468\n",
      "Percentage :  93.60000000000001\n"
     ]
    }
   ],
   "source": [
    "class FindPercent():\n",
    "    def percentage():\n",
    "        sub1=int(input(\"Subject1= \"))\n",
    "        sub2=int(input(\"Subject2= \"))\n",
    "        sub3=int(input(\"Subject3= \"))\n",
    "        sub4=int(input(\"Subject4= \"))\n",
    "        sub5=int(input(\"Subject5= \"))\n",
    "        Total = sub1+sub2+sub3+sub4+sub5\n",
    "        print(\"Total : \",sub1+sub2+sub3+sub4+sub5)\n",
    "        print(\"Percentage : \",((Total / 500) * 100))\n",
    "\n",
    "FindPercent.percentage()"
   ]
  },
  {
   "cell_type": "code",
   "execution_count": 10,
   "id": "2311160f-f5bf-42c6-a1fe-241ccf147ee6",
   "metadata": {},
   "outputs": [
    {
     "name": "stdin",
     "output_type": "stream",
     "text": [
      "Height: 32\n",
      "breadth: 34\n"
     ]
    },
    {
     "name": "stdout",
     "output_type": "stream",
     "text": [
      "Area formula: (Height*Breadth)/2\n",
      "Area of Triangle: 544.0\n"
     ]
    },
    {
     "name": "stdin",
     "output_type": "stream",
     "text": [
      "Height1: 2\n",
      "Height2: 4\n",
      "Breadth: 4\n"
     ]
    },
    {
     "name": "stdout",
     "output_type": "stream",
     "text": [
      "Perimeter formula: Height1+Height2+Breadth\n",
      "Perimeter of Triangle: 10\n"
     ]
    }
   ],
   "source": [
    "class triangle():\n",
    "    def triangle():\n",
    "        h=int(input(\"Height:\"))\n",
    "        b=int(input(\"breadth:\"))\n",
    "        print(\"Area formula: (Height*Breadth)/2\")\n",
    "        area=(h*b)/2\n",
    "        print(\"Area of Triangle:\",area)\n",
    "        h1=int(input(\"Height1:\"))\n",
    "        h2=int(input(\"Height2:\"))\n",
    "        b1=int(input(\"Breadth:\"))\n",
    "        print(\"Perimeter formula: Height1+Height2+Breadth\")\n",
    "        print(\"Perimeter of Triangle:\",h1+h2+b1)\n",
    "triangle.triangle()\n",
    "\n",
    "    "
   ]
  },
  {
   "cell_type": "code",
   "execution_count": null,
   "id": "20d4e83e-f9aa-4723-9a4b-4f5de01147e0",
   "metadata": {},
   "outputs": [],
   "source": []
  }
 ],
 "metadata": {
  "kernelspec": {
   "display_name": "Python 3 (ipykernel)",
   "language": "python",
   "name": "python3"
  },
  "language_info": {
   "codemirror_mode": {
    "name": "ipython",
    "version": 3
   },
   "file_extension": ".py",
   "mimetype": "text/x-python",
   "name": "python",
   "nbconvert_exporter": "python",
   "pygments_lexer": "ipython3",
   "version": "3.12.7"
  }
 },
 "nbformat": 4,
 "nbformat_minor": 5
}
