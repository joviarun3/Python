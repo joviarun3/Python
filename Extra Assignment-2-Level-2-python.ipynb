{
 "cells": [
  {
   "cell_type": "code",
   "execution_count": 2,
   "id": "11db1f6a-c197-4799-8963-bf79d51d42c7",
   "metadata": {},
   "outputs": [
    {
     "name": "stdout",
     "output_type": "stream",
     "text": [
      "0\n",
      "1\n",
      "2\n",
      "3\n",
      "4\n",
      "5\n",
      "6\n",
      "7\n",
      "8\n",
      "9\n",
      "10\n",
      "11\n",
      "12\n",
      "13\n",
      "14\n",
      "15\n",
      "16\n",
      "17\n",
      "18\n",
      "19\n"
     ]
    }
   ],
   "source": [
    "#print range(0,20)\n",
    "for i in range (0,20):\n",
    "    print(i)"
   ]
  },
  {
   "cell_type": "code",
   "execution_count": 1,
   "id": "c41d1efd-6017-44d1-95cb-9973700bbad0",
   "metadata": {},
   "outputs": [
    {
     "name": "stdout",
     "output_type": "stream",
     "text": [
      "10 11 12 13 14 15 16 17 18 19 "
     ]
    }
   ],
   "source": [
    "#print range 10 to 20\n",
    "for i in range (10,20):\n",
    "    print(i, end=\" \")"
   ]
  },
  {
   "cell_type": "code",
   "execution_count": 4,
   "id": "7183e839-aa0a-4f11-8296-fca01ae0c0ab",
   "metadata": {},
   "outputs": [
    {
     "name": "stdout",
     "output_type": "stream",
     "text": [
      "[10, 20, 14, 55, 43, 87, 76]\n",
      "Number of item in the List2: \n",
      "7\n"
     ]
    }
   ],
   "source": [
    "# Print number of items in the list by using 'len' \n",
    "List2 = [10, 20, 14 ,55 ,43 ,87 ,76 ] \n",
    "print(List2) \n",
    "print(\"Number of item in the List2: \") \n",
    "print(len(List2))"
   ]
  },
  {
   "cell_type": "code",
   "execution_count": 7,
   "id": "b572d168-dbb9-4ed1-b470-90d05acd8538",
   "metadata": {},
   "outputs": [
    {
     "name": "stdout",
     "output_type": "stream",
     "text": [
      "Artificial Intelligence\n",
      "A\n",
      "r\n",
      "t\n",
      "i\n",
      "f\n",
      "i\n",
      "c\n",
      "i\n",
      "a\n",
      "l\n",
      " \n",
      "I\n",
      "n\n",
      "t\n",
      "e\n",
      "l\n",
      "l\n",
      "i\n",
      "g\n",
      "e\n",
      "n\n",
      "c\n",
      "e\n"
     ]
    }
   ],
   "source": [
    "name=\"Artificial Intelligence\"\n",
    "print(name)\n",
    "for i in name:\n",
    "    print(i)"
   ]
  },
  {
   "cell_type": "code",
   "execution_count": 8,
   "id": "80a29559-e47c-45a4-9582-db2732630ce7",
   "metadata": {},
   "outputs": [
    {
     "name": "stdout",
     "output_type": "stream",
     "text": [
      "-Your Name-\n",
      "-Your Age-\n",
      "-Your Profession-\n"
     ]
    }
   ],
   "source": [
    "my_list = [\"-Your Name-\", \"-Your Age-\", \"-Your Profession-\"] \n",
    "for i in my_list: \n",
    "   print(i)"
   ]
  },
  {
   "cell_type": "code",
   "execution_count": 9,
   "id": "d5d8fcb9-7f64-4d72-b0f8-fdcc539b0464",
   "metadata": {},
   "outputs": [
    {
     "name": "stdout",
     "output_type": "stream",
     "text": [
      "(1, 'Welcome', 2, 'Hope')\n"
     ]
    }
   ],
   "source": [
    "# Refer this link : https://www.geeksforgeeks.org/python-tuples/\n",
    "# Print yhis mixered datatype using Tuples\n",
    "tup = (1, 'Welcome', 2, 'Hope')\n",
    "print(tup)\n"
   ]
  },
  {
   "cell_type": "code",
   "execution_count": 10,
   "id": "2fcfa4e2-94b7-420b-869e-3c636ad2b388",
   "metadata": {},
   "outputs": [
    {
     "name": "stdout",
     "output_type": "stream",
     "text": [
      "((0, 1, 2, 3), ('python', 'HOPE'))\n"
     ]
    }
   ],
   "source": [
    "# Refer this link : https://www.geeksforgeeks.org/python-tuples/\n",
    "Tuple1 = (0, 1, 2, 3) \n",
    "Tuple2 = ('python', 'HOPE') \n",
    "Tuple3 = (Tuple1, Tuple2) \n",
    "print(Tuple3) "
   ]
  },
  {
   "cell_type": "code",
   "execution_count": 31,
   "id": "975b6198-ae73-4115-ba89-48eed3809ac0",
   "metadata": {},
   "outputs": [
    {
     "name": "stdout",
     "output_type": "stream",
     "text": [
      "(20,10,16,19,25,1,276,188)\n",
      "19 is odd\n",
      "25 is odd\n",
      "1 is odd\n"
     ]
    }
   ],
   "source": [
    "# print Odd Numbers in the list \n",
    "list3=[20,10,16,19,25,1,276,188] \n",
    "print(\"(20,10,16,19,25,1,276,188)\") \n",
    "for i in list3: \n",
    "   if i % 2 == 1:\n",
    "       print(i,\"is odd\") "
   ]
  },
  {
   "cell_type": "code",
   "execution_count": 32,
   "id": "fee7ef02-626b-4a91-a11d-441269cb2a57",
   "metadata": {},
   "outputs": [
    {
     "name": "stdout",
     "output_type": "stream",
     "text": [
      "(20,10,16,19,25,1,276,188)\n",
      "20 is even\n",
      "10 is even\n",
      "16 is even\n",
      "276 is even\n",
      "188 is even\n"
     ]
    }
   ],
   "source": [
    "# print Even numbers in the list\n",
    "list3=[20,10,16,19,25,1,276,188] \n",
    "print(\"(20,10,16,19,25,1,276,188)\") \n",
    "for i in list3: \n",
    "   if i % 2 == 0:\n",
    "       print(i,\"is even\") "
   ]
  },
  {
   "cell_type": "code",
   "execution_count": null,
   "id": "4577bfc7-b077-405d-af9b-a16d25294288",
   "metadata": {},
   "outputs": [],
   "source": []
  }
 ],
 "metadata": {
  "kernelspec": {
   "display_name": "Python 3 (ipykernel)",
   "language": "python",
   "name": "python3"
  },
  "language_info": {
   "codemirror_mode": {
    "name": "ipython",
    "version": 3
   },
   "file_extension": ".py",
   "mimetype": "text/x-python",
   "name": "python",
   "nbconvert_exporter": "python",
   "pygments_lexer": "ipython3",
   "version": "3.12.7"
  }
 },
 "nbformat": 4,
 "nbformat_minor": 5
}
