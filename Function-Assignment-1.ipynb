{
 "cells": [
  {
   "cell_type": "code",
   "execution_count": 8,
   "id": "cbcc59f4-9fb6-4187-92c4-fb112620ebe2",
   "metadata": {},
   "outputs": [
    {
     "name": "stdout",
     "output_type": "stream",
     "text": [
      "Sub-fields in AI are:\n",
      "Machine Learning\n",
      "Neural Networks\n",
      "Vision\n",
      "Robotics\n",
      "Speech Processing\n",
      "Natural Language Processing\n"
     ]
    }
   ],
   "source": [
    "# Create function, and list out the items in the list \n",
    "list=['Machine Learning', 'Neural Networks', 'Vision', 'Robotics',  'Speech Processing', 'Natural Language Processing'] \n",
    "def Subfields():\n",
    "    print(\"Sub-fields in AI are:\") \n",
    "    for i in list:\n",
    "        print (i)\n",
    "Subfields()"
   ]
  },
  {
   "cell_type": "code",
   "execution_count": 12,
   "id": "6f41628a-64bc-4530-8039-4212d8c66da9",
   "metadata": {},
   "outputs": [
    {
     "name": "stdin",
     "output_type": "stream",
     "text": [
      "Enter a number: 52452\n"
     ]
    },
    {
     "name": "stdout",
     "output_type": "stream",
     "text": [
      "52452 is Even number\n"
     ]
    }
   ],
   "source": [
    "# Create a function that checks whether the given number is Odd or Even\n",
    "def OddEven():\n",
    "    num1=int(input(\"Enter a number:\"))\n",
    "    if num1%2==0:\n",
    "        print(num1,\"is Even number\")\n",
    "    else:\n",
    "        print(num1,\"is Odd number\")\n",
    "OddEven()"
   ]
  },
  {
   "cell_type": "code",
   "execution_count": 27,
   "id": "7fc29005-1703-49e6-910d-5f32014621f9",
   "metadata": {},
   "outputs": [
    {
     "name": "stdin",
     "output_type": "stream",
     "text": [
      "Your Gender: Male\n",
      "Your Age: 20\n"
     ]
    },
    {
     "name": "stdout",
     "output_type": "stream",
     "text": [
      "NOT ELIGIBLE\n"
     ]
    }
   ],
   "source": [
    "# Create a function that tells elegibility of marriage for male and female according to thei r age limit like 21 for male and 18 for female\n",
    "message=\"\"\n",
    "def Eligible(Gen, age):\n",
    "    if Gen == \"Male\" and age>=21:\n",
    "        print(\"ELIGIBLE\")\n",
    "    elif Gen == \"Female\" and age>=18:\n",
    "        print(\"ELIGIBLE\")\n",
    "    else:\n",
    "        print(\"NOT ELIGIBLE\")\n",
    "Gender=input(\"Your Gender:\")\n",
    "Age=int(input(\"Your Age:\"))\n",
    "\n",
    "Eligible(Gender,Age)\n"
   ]
  },
  {
   "cell_type": "code",
   "execution_count": 32,
   "id": "182e881b-fb6e-4bae-be0f-04bc8b4dad24",
   "metadata": {},
   "outputs": [
    {
     "name": "stdin",
     "output_type": "stream",
     "text": [
      "Subject1=  98\n",
      "Subject2=  87\n",
      "Subject3=  95\n",
      "Subject4=  95\n",
      "Subject5=  93\n"
     ]
    },
    {
     "name": "stdout",
     "output_type": "stream",
     "text": [
      "Total :  468\n",
      "Percentage :  93.60000000000001\n"
     ]
    }
   ],
   "source": [
    " # calculate the percentage of your 10th mark\n",
    "def percentage():\n",
    "            sub1=int(input(\"Subject1= \"))\n",
    "            sub2=int(input(\"Subject2= \"))\n",
    "            sub3=int(input(\"Subject3= \"))\n",
    "            sub4=int(input(\"Subject4= \"))\n",
    "            sub5=int(input(\"Subject5= \"))\n",
    "            Total = sub1+sub2+sub3+sub4+sub5\n",
    "            print(\"Total : \",sub1+sub2+sub3+sub4+sub5)\n",
    "            print(\"Percentage : \",((Total / 500) * 100))\n",
    "percentage()\n"
   ]
  },
  {
   "cell_type": "code",
   "execution_count": 2,
   "id": "21f1c29b-d919-4c84-a2ce-9fc66974174c",
   "metadata": {},
   "outputs": [
    {
     "name": "stdin",
     "output_type": "stream",
     "text": [
      "Height: 32\n",
      "breadth: 34\n"
     ]
    },
    {
     "name": "stdout",
     "output_type": "stream",
     "text": [
      "Area formula: (Height*Breadth)/2\n",
      "Area of Triangle: 544.0\n"
     ]
    },
    {
     "name": "stdin",
     "output_type": "stream",
     "text": [
      "Height1: 2\n",
      "Height2: 4\n",
      "Breadth: 4\n"
     ]
    },
    {
     "name": "stdout",
     "output_type": "stream",
     "text": [
      "Perimeter formula: Height1+Height2+Breadth\n",
      "Perimeter of Triangle: 10\n"
     ]
    }
   ],
   "source": [
    "#print area and perimeter of triangle using class and functions\n",
    "#Height:32\n",
    "#Breadth:34\n",
    "#Area formula: (Height*Breadth)/2\n",
    "#Area of Triangle: 544.0\n",
    "#Height1:2\n",
    "#Height2:4\n",
    "#Breadth:4\n",
    "#Perimeter formula: Height1+Height2+Breadth\n",
    "#Perimeter of Triangle: 10\n",
    "def triangle():\n",
    "    h=int(input(\"Height:\"))\n",
    "    b=int(input(\"breadth:\"))\n",
    "    print(\"Area formula: (Height*Breadth)/2\")\n",
    "    area=(h*b)/2\n",
    "    print(\"Area of Triangle:\",area)\n",
    "    h1=int(input(\"Height1:\"))\n",
    "    h2=int(input(\"Height2:\"))\n",
    "    b1=int(input(\"Breadth:\"))\n",
    "    print(\"Perimeter formula: Height1+Height2+Breadth\")\n",
    "    print(\"Perimeter of Triangle:\",h1+h2+b1)\n",
    "triangle()\n",
    "    "
   ]
  },
  {
   "cell_type": "code",
   "execution_count": null,
   "id": "d1f87361-4a18-40b0-bef2-2b12b7ae3fb0",
   "metadata": {},
   "outputs": [],
   "source": []
  }
 ],
 "metadata": {
  "kernelspec": {
   "display_name": "Python 3 (ipykernel)",
   "language": "python",
   "name": "python3"
  },
  "language_info": {
   "codemirror_mode": {
    "name": "ipython",
    "version": 3
   },
   "file_extension": ".py",
   "mimetype": "text/x-python",
   "name": "python",
   "nbconvert_exporter": "python",
   "pygments_lexer": "ipython3",
   "version": "3.12.7"
  }
 },
 "nbformat": 4,
 "nbformat_minor": 5
}
